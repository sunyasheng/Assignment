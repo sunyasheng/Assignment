{
 "cells": [
  {
   "cell_type": "code",
   "execution_count": 6,
   "metadata": {
    "collapsed": false,
    "deletable": true,
    "editable": true
   },
   "outputs": [],
   "source": [
    "import pandas as pd\n",
    "import numpy as np\n",
    "import matplotlib.pyplot as plt\n",
    "from datetime import datetime\n",
    "import numpy.core.defchararray as ss\n",
    "%matplotlib inline"
   ]
  },
  {
   "cell_type": "code",
   "execution_count": 7,
   "metadata": {
    "collapsed": false,
    "deletable": true,
    "editable": true,
    "scrolled": true
   },
   "outputs": [],
   "source": [
    "area = []\n",
    "normal = []\n",
    "i = 0\n",
    "with open('bu.csv', 'r') as f:  \n",
    "    data = f.readlines()\n",
    "    for line in data:  \n",
    "        i = i + 1\n",
    "        odom = line.split()\n",
    "        if(i%2==1):area.append(odom)\n",
    "        else: {\n",
    "              normal.append(odom)\n",
    "        }\n",
    "area = np.array(area)\n",
    "normal = np.array(normal)\n",
    "\n",
    "areas = np.zeros((4969,))\n",
    "for i in range(len(area)):\n",
    "    areas[i] = float(area[i][0])\n",
    "    \n",
    "normals = np.zeros((4969,3))\n",
    "for i in range(len(normal)):\n",
    "    t = ss.split(normal[i],',')\n",
    "    for j in range(len(t[0])):\n",
    "        normals[i][j] = float(t[0][j])"
   ]
  },
  {
   "cell_type": "code",
   "execution_count": 8,
   "metadata": {
    "collapsed": false,
    "deletable": true,
    "editable": true
   },
   "outputs": [],
   "source": [
    "import pyswarms as ps\n",
    "\n",
    "def per_calc_support_area(x):\n",
    "    length = np.sqrt(np.dot(x,x))\n",
    "    for i in range(len(x)):\n",
    "        x[i]/=length\n",
    "    \n",
    "    tot_area = 0.0\n",
    "    limit_angle = np.pi*0.25\n",
    "    for i in range(len(areas)):\n",
    "        angle_cos = np.dot(normals[i],x)/np.sqrt(np.dot(normals[i],normals[i]))/np.sqrt(np.dot(x,x))\n",
    "        if angle_cos>=0 and angle_cos > np.cos(limit_angle):\n",
    "            tot_area += areas[i]*angle_cos   \n",
    "#     print(x)\n",
    "#     print(tot_area)\n",
    "    return tot_area\n",
    "    \n",
    "def calc_support_area(x):\n",
    "    n_particles = x.shape[0]\n",
    "    j = [per_calc_support_area(x[i]) for i in range(n_particles)]\n",
    "    return np.array(j)\n",
    "\n",
    "# Set-up hyperparameters\n",
    "options = {'c1': 0.5, 'c2': 0.5, 'w':0.9}\n",
    "\n",
    "# Call instance of PSO\n"
   ]
  },
  {
   "cell_type": "code",
   "execution_count": 10,
   "metadata": {
    "collapsed": false,
    "deletable": true,
    "editable": true
   },
   "outputs": [
    {
     "name": "stderr",
     "output_type": "stream",
     "text": [
      "INFO:pyswarms.single.global_best:Iteration 1/15, cost: 0.255144481322\n",
      "INFO:pyswarms.single.global_best:Iteration 3/15, cost: 0.246242846445\n",
      "INFO:pyswarms.single.global_best:Iteration 5/15, cost: 0.205484061733\n",
      "INFO:pyswarms.single.global_best:Iteration 7/15, cost: 0.174235071168\n",
      "INFO:pyswarms.single.global_best:Iteration 9/15, cost: 0.16671985875\n",
      "INFO:pyswarms.single.global_best:Iteration 11/15, cost: 0.16671985875\n",
      "INFO:pyswarms.single.global_best:Iteration 13/15, cost: 0.16671985875\n",
      "INFO:pyswarms.single.global_best:Iteration 15/15, cost: 0.166223849553\n",
      "INFO:pyswarms.single.global_best:================================\n",
      "Optimization finished!\n",
      "Final cost: 0.1662\n",
      "Best value: [0.75406267706824437, -0.62340991869756435, -0.20675964867973884]\n",
      "\n"
     ]
    }
   ],
   "source": [
    "optimizer = ps.single.GlobalBestPSO(n_particles=50, dimensions=3, options=options)\n",
    "\n",
    "# Perform optimization\n",
    "best_cost, best_pos = optimizer.optimize(calc_support_area, iters=15, verbose=3, print_step=2)\n"
   ]
  },
  {
   "cell_type": "code",
   "execution_count": 24,
   "metadata": {
    "collapsed": false,
    "deletable": true,
    "editable": true
   },
   "outputs": [
    {
     "data": {
      "text/plain": [
       "[<matplotlib.lines.Line2D at 0x10abffb00>]"
      ]
     },
     "execution_count": 24,
     "metadata": {},
     "output_type": "execute_result"
    },
    {
     "data": {
      "image/png": "[encoded data removed]",
      "text/plain": [
       "<matplotlib.figure.Figure at 0x10ab297b8>"
      ]
     },
     "metadata": {},
     "output_type": "display_data"
    }
   ],
   "source": [
    "itera = [i for i in range(15)]\n",
    "plt.plot(itera, optimizer.get_cost_history)\n",
    "xlabel('iteration number')\n",
    "ylabel('support area')"
   ]
  }
 ],
 "metadata": {
  "kernelspec": {
   "display_name": "Python 3",
   "language": "python",
   "name": "python3"
  },
  "language_info": {
   "codemirror_mode": {
    "name": "ipython",
    "version": 3
   },
   "file_extension": ".py",
   "mimetype": "text/x-python",
   "name": "python",
   "nbconvert_exporter": "python",
   "pygments_lexer": "ipython3",
   "version": "3.6.2"
  }
 },
 "nbformat": 4,
 "nbformat_minor": 2
}
