{
 "cells": [
  {
   "cell_type": "code",
   "execution_count": 1,
   "metadata": {
    "collapsed": false,
    "deletable": true,
    "editable": true
   },
   "outputs": [],
   "source": [
    "import numpy as np\n",
    "import os\n",
    "base_path = './data_hw2/'\n",
    "trainset_filename = 'train_data.npy'\n",
    "trainlabel_filename = 'train_label.npy'\n",
    "testset_filename = 'test_data.npy'\n",
    "testlabel_filename = 'test_label.npy'\n",
    "train_set = np.load(base_path+trainset_filename)\n",
    "train_label = np.load(base_path+trainlabel_filename)\n",
    "test_set = np.load(base_path+testset_filename)\n",
    "test_label = np.load(base_path+testlabel_filename)"
   ]
  },
  {
   "cell_type": "code",
   "execution_count": 2,
   "metadata": {
    "collapsed": true,
    "deletable": true,
    "editable": true
   },
   "outputs": [],
   "source": [
    "# Modified status here\n",
    "status = 'test'\n",
    "# status = 'final'\n",
    "if status == 'test':\n",
    "    num_train = 10000\n",
    "    num_test = 500\n",
    "else:\n",
    "    num_train = train_label.shape[0]\n",
    "    num_test = test_label.shape[0]"
   ]
  },
  {
   "cell_type": "code",
   "execution_count": 3,
   "metadata": {
    "collapsed": false,
    "deletable": true,
    "editable": true
   },
   "outputs": [],
   "source": [
    "train_indices = np.random.permutation(train_label.shape[0])\n",
    "test_indices = np.random.permutation(test_label.shape[0])\n",
    "train_set = train_set[train_indices[0:num_train]]\n",
    "train_label = train_label[train_indices[0:num_train]]\n",
    "test_set = test_set[test_indices[0:num_test]]\n",
    "test_label = test_label[test_indices[0:num_test]]"
   ]
  },
  {
   "cell_type": "code",
   "execution_count": 4,
   "metadata": {
    "collapsed": false,
    "deletable": true,
    "editable": true
   },
   "outputs": [],
   "source": [
    "f = open('train_out.txt', 'w')\n",
    "for i in range(num_train):\n",
    "    f.write(\"%d \"%(train_label[i]))\n",
    "    for j in range(train_set.shape[1]):\n",
    "        f.write(\"%d:%f \"%(j+1, train_set[i][j]))\n",
    "    f.write(\"\\n\")\n",
    "f.close()"
   ]
  },
  {
   "cell_type": "code",
   "execution_count": 5,
   "metadata": {
    "collapsed": false,
    "deletable": true,
    "editable": true
   },
   "outputs": [],
   "source": [
    "f = open('test_out.txt', 'w')\n",
    "for i in range(num_test):\n",
    "    f.write(\"%d \"%(test_label[i]))\n",
    "    for j in range(test_set.shape[1]):\n",
    "        f.write(\"%d:%f \"%(j+1, test_set[i][j]))\n",
    "    f.write(\"\\n\")\n",
    "f.close()"
   ]
  },
  {
   "cell_type": "code",
   "execution_count": 6,
   "metadata": {
    "collapsed": false,
    "deletable": true,
    "editable": true
   },
   "outputs": [
    {
     "name": "stdout",
     "output_type": "stream",
     "text": [
      "No error.\n",
      "No error.\n"
     ]
    }
   ],
   "source": [
    "import sys\n",
    "import os\n",
    "# !python /Users/yashengsun/Documents/libsvm/tools/checkdata.py test_out.txt\n",
    "# !python /Users/yashengsun/Documents/libsvm/tools/checkdata.py train_out.txt\n",
    "!./svm-scale -l -1 -u 1 -s range3 train_out.txt > train.scale\n",
    "!./svm-scale -r range3 test_out.txt > test.scale"
   ]
  },
  {
   "cell_type": "code",
   "execution_count": null,
   "metadata": {
    "collapsed": true,
    "deletable": true,
    "editable": true
   },
   "outputs": [],
   "source": [
    "! make one-vs-rest \n",
    "!./one-vs-rest -h 0 train.scale test.scale"
   ]
  }
 ],
 "metadata": {
  "kernelspec": {
   "display_name": "Python 3",
   "language": "python",
   "name": "python3"
  },
  "language_info": {
   "codemirror_mode": {
    "name": "ipython",
    "version": 3
   },
   "file_extension": ".py",
   "mimetype": "text/x-python",
   "name": "python",
   "nbconvert_exporter": "python",
   "pygments_lexer": "ipython3",
   "version": "3.6.3"
  }
 },
 "nbformat": 4,
 "nbformat_minor": 2
}
